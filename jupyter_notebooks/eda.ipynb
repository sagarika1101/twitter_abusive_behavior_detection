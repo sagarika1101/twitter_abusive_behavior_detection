{
 "cells": [
  {
   "cell_type": "code",
   "execution_count": 39,
   "metadata": {
    "pycharm": {
     "is_executing": false
    }
   },
   "outputs": [],
   "source": [
    "import pandas as pd\n",
    "import re\n",
    "import spacy\n",
    "import pickle\n",
    "import numpy as np\n",
    "from tqdm import tqdm\n",
    "import matplotlib.pyplot as plt\n",
    "import seaborn as sns\n",
    "\n",
    "from sklearn.feature_extraction.text import CountVectorizer, TfidfVectorizer\n",
    "from sklearn.model_selection import train_test_split, cross_val_score\n",
    "from sklearn.multiclass import OneVsOneClassifier\n",
    "from sklearn import svm\n",
    "from sklearn.metrics import classification_report\n",
    "from sklearn.ensemble import RandomForestClassifier\n",
    "from sklearn.linear_model import LogisticRegression"
   ]
  },
  {
   "cell_type": "code",
   "execution_count": 3,
   "metadata": {},
   "outputs": [],
   "source": [
    "pd.set_option('display.max_colwidth', -1)\n",
    "pd.set_option('display.max_rows', 100)"
   ]
  },
  {
   "cell_type": "code",
   "execution_count": 3,
   "metadata": {},
   "outputs": [
    {
     "name": "stderr",
     "output_type": "stream",
     "text": [
      "C:\\Users\\ramya\\AppData\\Local\\Continuum\\anaconda3\\lib\\site-packages\\tqdm\\std.py:666: FutureWarning: The Panel class is removed from pandas. Accessing it from the top-level namespace will also be removed in the next version\n",
      "  from pandas import Panel\n"
     ]
    }
   ],
   "source": [
    "tqdm.pandas()\n",
    "nlp = spacy.load('en_core_web_sm')"
   ]
  },
  {
   "cell_type": "code",
   "execution_count": 4,
   "metadata": {},
   "outputs": [],
   "source": [
    "df = pd.read_csv('data/hatespeech_text_label_vote_RESTRICTED_100K.csv', header=None, sep='\\t')\n",
    "df.columns = ['text', 'label', 'votes']"
   ]
  },
  {
   "cell_type": "code",
   "execution_count": 15,
   "metadata": {},
   "outputs": [
    {
     "data": {
      "text/html": [
       "<div>\n",
       "<style scoped>\n",
       "    .dataframe tbody tr th:only-of-type {\n",
       "        vertical-align: middle;\n",
       "    }\n",
       "\n",
       "    .dataframe tbody tr th {\n",
       "        vertical-align: top;\n",
       "    }\n",
       "\n",
       "    .dataframe thead th {\n",
       "        text-align: right;\n",
       "    }\n",
       "</style>\n",
       "<table border=\"1\" class=\"dataframe\">\n",
       "  <thead>\n",
       "    <tr style=\"text-align: right;\">\n",
       "      <th></th>\n",
       "      <th>label</th>\n",
       "      <th>counts</th>\n",
       "    </tr>\n",
       "  </thead>\n",
       "  <tbody>\n",
       "    <tr>\n",
       "      <th>0</th>\n",
       "      <td>abusive</td>\n",
       "      <td>27150</td>\n",
       "    </tr>\n",
       "    <tr>\n",
       "      <th>1</th>\n",
       "      <td>hateful</td>\n",
       "      <td>4965</td>\n",
       "    </tr>\n",
       "    <tr>\n",
       "      <th>2</th>\n",
       "      <td>normal</td>\n",
       "      <td>53851</td>\n",
       "    </tr>\n",
       "    <tr>\n",
       "      <th>3</th>\n",
       "      <td>spam</td>\n",
       "      <td>14030</td>\n",
       "    </tr>\n",
       "  </tbody>\n",
       "</table>\n",
       "</div>"
      ],
      "text/plain": [
       "     label  counts\n",
       "0  abusive   27150\n",
       "1  hateful    4965\n",
       "2   normal   53851\n",
       "3     spam   14030"
      ]
     },
     "execution_count": 15,
     "metadata": {},
     "output_type": "execute_result"
    }
   ],
   "source": [
    "df.groupby(['label']).size().reset_index(name='counts')"
   ]
  },
  {
   "cell_type": "code",
   "execution_count": 10,
   "metadata": {},
   "outputs": [],
   "source": [
    "def clean(text):\n",
    "    text = re.sub(r'\\w*@\\w*\\.\\w*', '', text)  # remove emails\n",
    "    text = re.sub(r'#.+?(\\s|$)', '', text)  # remove hashtags\n",
    "    text = re.sub(r'(https{0,1}\\:\\/\\/.+?(\\s|$))|(www\\..+?(\\s|$))|('\n",
    "                  r'\\b\\w+\\.twitter\\.com.+?(\\s|$))', ' ',\n",
    "                  text)  # remove urls\n",
    "    text = re.sub(r'(@.+?(\\b|\\s|$))', '', text)  # remove mentions\n",
    "    text = re.sub(r'\\b(RT|rt)\\b', '', text)  # remove retweets\n",
    "    text = re.sub(r'(&#\\w+;)+', ' ', text)  # &amp;\n",
    "    text = re.sub(r'(&amp;)+', ' ', text)\n",
    "    text = re.sub(r'(\\\\n)+', ' ', text)  # remove \\n\n",
    "    text = re.sub(r'(\\[deleted\\])|(\\[removed\\])', ' ',\n",
    "                  text)  # remove [deleted] and [removed]\n",
    "    text = re.sub(r'\\s+', ' ', text)\n",
    "    text = text.lower()\n",
    "    return text\n",
    "\n",
    "def lemmatize(sentence):\n",
    "    doc = nlp(sentence)\n",
    "    return \" \".join([token.lemma_ for token in doc])"
   ]
  },
  {
   "cell_type": "code",
   "execution_count": 11,
   "metadata": {},
   "outputs": [
    {
     "name": "stderr",
     "output_type": "stream",
     "text": [
      "100%|█████████████████████████████████████████████████████████████████████████| 99996/99996 [00:04<00:00, 24159.87it/s]\n",
      "100%|███████████████████████████████████████████████████████████████████████████| 99996/99996 [12:19<00:00, 135.14it/s]\n"
     ]
    }
   ],
   "source": [
    "df['cleaned'] = df['text'].progress_apply(lambda x : clean(x))\n",
    "df['lemmatized'] = df['cleaned'].progress_apply(lambda x: lemmatize(x))\n",
    "df.to_pickle('data/processed.pkl')"
   ]
  },
  {
   "cell_type": "code",
   "execution_count": 17,
   "metadata": {},
   "outputs": [
    {
     "data": {
      "text/plain": [
       "text          Beats by Dr. Dre urBeats Wired In-Ear Headphones - White https://t.co/9tREpqfyW4 https://t.co/FCaWyWRbpE\n",
       "label         1                                                                                                       \n",
       "votes         4                                                                                                       \n",
       "cleaned       beats by dr. dre urbeats wired in-ear headphones - white                                                \n",
       "lemmatized    beat by dr . dre urbeats wire in - ear headphone - white                                                \n",
       "Name: 0, dtype: object"
      ]
     },
     "execution_count": 17,
     "metadata": {},
     "output_type": "execute_result"
    }
   ],
   "source": [
    "df.iloc[0]"
   ]
  },
  {
   "cell_type": "code",
   "execution_count": 4,
   "metadata": {},
   "outputs": [],
   "source": [
    "with open('data/processed.pkl', 'rb') as f:\n",
    "    df = pickle.load(f)"
   ]
  },
  {
   "cell_type": "code",
   "execution_count": 5,
   "metadata": {},
   "outputs": [],
   "source": [
    "def assign_label(x):\n",
    "    if x == 'normal':\n",
    "        return 0\n",
    "    elif x == 'spam':\n",
    "        return 1\n",
    "    elif x == 'abusive':\n",
    "        return 2\n",
    "    else:\n",
    "        return 3"
   ]
  },
  {
   "cell_type": "code",
   "execution_count": 6,
   "metadata": {},
   "outputs": [],
   "source": [
    "df['label'] = df['label'].apply(lambda x : assign_label(x))"
   ]
  },
  {
   "cell_type": "code",
   "execution_count": 19,
   "metadata": {},
   "outputs": [],
   "source": [
    "ngram_vectorizer = CountVectorizer(input='content',\n",
    "                                   analyzer='word',\n",
    "                                   strip_accents='ascii',\n",
    "                                   ngram_range=(1,3),\n",
    "                                   min_df=2)"
   ]
  },
  {
   "cell_type": "code",
   "execution_count": 7,
   "metadata": {},
   "outputs": [],
   "source": [
    "train_df, test_df = train_test_split(df, test_size=0.2, random_state=42)"
   ]
  },
  {
   "cell_type": "code",
   "execution_count": 20,
   "metadata": {},
   "outputs": [],
   "source": [
    "trainX = ngram_vectorizer.fit_transform(train_df['lemmatized'])\n",
    "trainY = train_df['label']"
   ]
  },
  {
   "cell_type": "code",
   "execution_count": 21,
   "metadata": {},
   "outputs": [],
   "source": [
    "classifier = OneVsOneClassifier(svm.LinearSVC(class_weight='balanced', C=0.1, max_iter=2000), n_jobs=-1)"
   ]
  },
  {
   "cell_type": "code",
   "execution_count": 22,
   "metadata": {},
   "outputs": [
    {
     "data": {
      "text/plain": [
       "OneVsOneClassifier(estimator=LinearSVC(C=0.1, class_weight='balanced',\n",
       "                                       dual=True, fit_intercept=True,\n",
       "                                       intercept_scaling=1,\n",
       "                                       loss='squared_hinge', max_iter=2000,\n",
       "                                       multi_class='ovr', penalty='l2',\n",
       "                                       random_state=None, tol=0.0001,\n",
       "                                       verbose=0),\n",
       "                   n_jobs=-1)"
      ]
     },
     "execution_count": 22,
     "metadata": {},
     "output_type": "execute_result"
    }
   ],
   "source": [
    "classifier.fit(trainX, trainY)"
   ]
  },
  {
   "cell_type": "code",
   "execution_count": 23,
   "metadata": {},
   "outputs": [],
   "source": [
    "predY = classifier.predict(trainX)"
   ]
  },
  {
   "cell_type": "code",
   "execution_count": 24,
   "metadata": {},
   "outputs": [
    {
     "name": "stdout",
     "output_type": "stream",
     "text": [
      "              precision    recall  f1-score   support\n",
      "\n",
      "           0       1.00      0.92      0.96     43003\n",
      "           1       0.78      0.97      0.86     11213\n",
      "           2       0.97      0.96      0.96     21781\n",
      "           3       0.82      0.97      0.89      3999\n",
      "\n",
      "    accuracy                           0.94     79996\n",
      "   macro avg       0.89      0.95      0.92     79996\n",
      "weighted avg       0.95      0.94      0.94     79996\n",
      "\n"
     ]
    }
   ],
   "source": [
    "print(classification_report(trainY, predY))"
   ]
  },
  {
   "cell_type": "code",
   "execution_count": 25,
   "metadata": {},
   "outputs": [],
   "source": [
    "testX = ngram_vectorizer.transform(test_df['lemmatized'])"
   ]
  },
  {
   "cell_type": "code",
   "execution_count": 26,
   "metadata": {},
   "outputs": [],
   "source": [
    "predY = classifier.predict(testX)"
   ]
  },
  {
   "cell_type": "code",
   "execution_count": 12,
   "metadata": {},
   "outputs": [],
   "source": [
    "testY = test_df['label']"
   ]
  },
  {
   "cell_type": "code",
   "execution_count": 28,
   "metadata": {},
   "outputs": [
    {
     "name": "stdout",
     "output_type": "stream",
     "text": [
      "              precision    recall  f1-score   support\n",
      "\n",
      "           0       0.85      0.80      0.83     10848\n",
      "           1       0.49      0.62      0.54      2817\n",
      "           2       0.88      0.86      0.87      5369\n",
      "           3       0.40      0.39      0.40       966\n",
      "\n",
      "    accuracy                           0.77     20000\n",
      "   macro avg       0.65      0.67      0.66     20000\n",
      "weighted avg       0.79      0.77      0.78     20000\n",
      "\n"
     ]
    }
   ],
   "source": [
    "print(classification_report(testY, predY))"
   ]
  },
  {
   "cell_type": "code",
   "execution_count": 29,
   "metadata": {},
   "outputs": [
    {
     "data": {
      "text/plain": [
       "0    0.537564\n",
       "1    0.140170\n",
       "2    0.272276\n",
       "3    0.049990\n",
       "Name: counts, dtype: float64"
      ]
     },
     "execution_count": 29,
     "metadata": {},
     "output_type": "execute_result"
    }
   ],
   "source": [
    "train_df.groupby('label').size().reset_index(name='counts')['counts']/79996"
   ]
  },
  {
   "cell_type": "code",
   "execution_count": 30,
   "metadata": {},
   "outputs": [
    {
     "data": {
      "text/plain": [
       "0    0.54240\n",
       "1    0.14085\n",
       "2    0.26845\n",
       "3    0.04830\n",
       "Name: counts, dtype: float64"
      ]
     },
     "execution_count": 30,
     "metadata": {},
     "output_type": "execute_result"
    }
   ],
   "source": [
    "test_df.groupby('label').size().reset_index(name='counts')['counts']/20000"
   ]
  },
  {
   "cell_type": "code",
   "execution_count": 64,
   "metadata": {},
   "outputs": [
    {
     "data": {
      "text/plain": [
       "(20000, 5)"
      ]
     },
     "execution_count": 64,
     "metadata": {},
     "output_type": "execute_result"
    }
   ],
   "source": [
    "test_df.shape"
   ]
  },
  {
   "cell_type": "code",
   "execution_count": 57,
   "metadata": {},
   "outputs": [],
   "source": [
    "bow_vectorizer = CountVectorizer(input='content',\n",
    "                                 analyzer='word',\n",
    "                                 strip_accents='ascii',\n",
    "                                 ngram_range=(1,3),\n",
    "                                 stop_words='english',\n",
    "                                 min_df=10)"
   ]
  },
  {
   "cell_type": "code",
   "execution_count": 58,
   "metadata": {},
   "outputs": [],
   "source": [
    "df = pickle.load(open('data/processed.pkl', 'rb'))"
   ]
  },
  {
   "cell_type": "code",
   "execution_count": 59,
   "metadata": {},
   "outputs": [],
   "source": [
    "df_abusive = df[df['label'] == 'abusive']"
   ]
  },
  {
   "cell_type": "code",
   "execution_count": 69,
   "metadata": {},
   "outputs": [
    {
     "name": "stderr",
     "output_type": "stream",
     "text": [
      "/Users/sanjana/anaconda3/envs/west/lib/python3.6/site-packages/ipykernel_launcher.py:1: SettingWithCopyWarning: \n",
      "A value is trying to be set on a copy of a slice from a DataFrame.\n",
      "Try using .loc[row_indexer,col_indexer] = value instead\n",
      "\n",
      "See the caveats in the documentation: https://pandas.pydata.org/pandas-docs/stable/user_guide/indexing.html#returning-a-view-versus-a-copy\n",
      "  \"\"\"Entry point for launching an IPython kernel.\n",
      "/Users/sanjana/anaconda3/envs/west/lib/python3.6/site-packages/ipykernel_launcher.py:2: SettingWithCopyWarning: \n",
      "A value is trying to be set on a copy of a slice from a DataFrame.\n",
      "Try using .loc[row_indexer,col_indexer] = value instead\n",
      "\n",
      "See the caveats in the documentation: https://pandas.pydata.org/pandas-docs/stable/user_guide/indexing.html#returning-a-view-versus-a-copy\n",
      "  \n"
     ]
    }
   ],
   "source": [
    "df_abusive['cleaned'] = df_abusive['text'].apply(lambda x : clean(x))\n",
    "df_abusive['lemmatized'] = df_abusive['cleaned'].apply(lambda x: lemmatize(x))"
   ]
  },
  {
   "cell_type": "code",
   "execution_count": 74,
   "metadata": {},
   "outputs": [],
   "source": [
    "bow_vectorizer = CountVectorizer(input='content',\n",
    "                                 analyzer='word',\n",
    "                                 strip_accents='ascii',\n",
    "                                 ngram_range=(2,5),\n",
    "                                 stop_words='english',\n",
    "                                 min_df=10)\n",
    "X = bow_vectorizer.fit_transform(df_abusive['lemmatized'])"
   ]
  },
  {
   "cell_type": "code",
   "execution_count": 75,
   "metadata": {},
   "outputs": [
    {
     "data": {
      "text/plain": [
       "['ugly ass',\n",
       " 'bad bitch',\n",
       " 'ass bitch',\n",
       " 'feel like',\n",
       " 'know fucking',\n",
       " 'bitch like',\n",
       " 'wanna fuck',\n",
       " 'just fucking',\n",
       " 'oh god',\n",
       " 'look like',\n",
       " 'stop fuck',\n",
       " 'fucking hate',\n",
       " 'fucking george',\n",
       " 'george bush',\n",
       " 'know fucking george',\n",
       " 'know fucking george bush racist',\n",
       " 'fucking george bush racist',\n",
       " 'fucking george bush',\n",
       " 'george bush racist',\n",
       " 'bush racist',\n",
       " 'know fucking george bush',\n",
       " 'sorry ugly',\n",
       " 'ugly ass bitch',\n",
       " 'sweetie sorry',\n",
       " 'sorry ugly ass',\n",
       " 'stupid ass',\n",
       " 'sorry ugly ass bitch',\n",
       " 'like say',\n",
       " 'damn phone',\n",
       " 'ass bitch like',\n",
       " 'look fucking',\n",
       " 'like fucking',\n",
       " 'just fuck',\n",
       " 'sorry ugly ass bitch like',\n",
       " 'say oh',\n",
       " 'ugly ass bitch like',\n",
       " 'bitch like say',\n",
       " 'say oh god',\n",
       " 'like say oh',\n",
       " 'know fuck',\n",
       " 'fucking bad',\n",
       " 'bitch like say oh',\n",
       " 'like say oh god',\n",
       " 'fucking thing',\n",
       " 'bitch like say oh god',\n",
       " 'ugly ass bitch like say',\n",
       " 'fucking hell',\n",
       " 'ass bitch like say',\n",
       " 'sick damn',\n",
       " 'say sick']"
      ]
     },
     "execution_count": 75,
     "metadata": {},
     "output_type": "execute_result"
    }
   ],
   "source": [
    "feature_names = np.array(bow_vectorizer.get_feature_names())\n",
    "feature_names[np.argsort(np.array(X.sum(axis=0))[0])[::-1]][:50].tolist()"
   ]
  },
  {
   "cell_type": "code",
   "execution_count": 8,
   "metadata": {},
   "outputs": [],
   "source": [
    "tfidf_vectorizer = TfidfVectorizer(input='content',\n",
    "                                   analyzer='word',\n",
    "                                   strip_accents='ascii',\n",
    "                                   ngram_range=(1,3),\n",
    "                                   min_df=5,\n",
    "                                   stop_words='english',\n",
    "                                   use_idf = True)"
   ]
  },
  {
   "cell_type": "code",
   "execution_count": 9,
   "metadata": {},
   "outputs": [],
   "source": [
    "trainX = tfidf_vectorizer.fit_transform(train_df['lemmatized'])\n",
    "testX = tfidf_vectorizer.transform(test_df['lemmatized'])"
   ]
  },
  {
   "cell_type": "code",
   "execution_count": 37,
   "metadata": {},
   "outputs": [
    {
     "data": {
      "text/plain": [
       "27516"
      ]
     },
     "execution_count": 37,
     "metadata": {},
     "output_type": "execute_result"
    }
   ],
   "source": [
    "features = tfidf_vectorizer.get_feature_names()\n",
    "len(features)"
   ]
  },
  {
   "cell_type": "code",
   "execution_count": 38,
   "metadata": {},
   "outputs": [
    {
     "data": {
      "text/plain": [
       "RandomForestClassifier(bootstrap=True, class_weight=None, criterion='gini',\n",
       "                       max_depth=None, max_features='auto', max_leaf_nodes=None,\n",
       "                       min_impurity_decrease=0.0, min_impurity_split=None,\n",
       "                       min_samples_leaf=1, min_samples_split=2,\n",
       "                       min_weight_fraction_leaf=0.0, n_estimators=100,\n",
       "                       n_jobs=None, oob_score=False, random_state=42, verbose=0,\n",
       "                       warm_start=False)"
      ]
     },
     "execution_count": 38,
     "metadata": {},
     "output_type": "execute_result"
    }
   ],
   "source": [
    "rf_classifier = RandomForestClassifier(n_estimators = 100, criterion = 'gini', random_state = 42) #entropy\n",
    "rf_classifier.fit(trainX, trainY)"
   ]
  },
  {
   "cell_type": "code",
   "execution_count": 40,
   "metadata": {},
   "outputs": [
    {
     "name": "stdout",
     "output_type": "stream",
     "text": [
      "              precision    recall  f1-score   support\n",
      "\n",
      "           0       0.98      0.99      0.98     43003\n",
      "           1       0.96      0.93      0.94     11213\n",
      "           2       0.97      0.99      0.98     21781\n",
      "           3       0.96      0.90      0.93      3999\n",
      "\n",
      "    accuracy                           0.97     79996\n",
      "   macro avg       0.97      0.95      0.96     79996\n",
      "weighted avg       0.97      0.97      0.97     79996\n",
      "\n"
     ]
    }
   ],
   "source": [
    "predY = rf_classifier.predict(trainX)\n",
    "print(classification_report(trainY, predY))"
   ]
  },
  {
   "cell_type": "code",
   "execution_count": 41,
   "metadata": {},
   "outputs": [
    {
     "name": "stdout",
     "output_type": "stream",
     "text": [
      "              precision    recall  f1-score   support\n",
      "\n",
      "           0       0.80      0.92      0.85     10848\n",
      "           1       0.58      0.29      0.39      2817\n",
      "           2       0.85      0.91      0.88      5369\n",
      "           3       0.61      0.21      0.31       966\n",
      "\n",
      "    accuracy                           0.79     20000\n",
      "   macro avg       0.71      0.58      0.61     20000\n",
      "weighted avg       0.77      0.79      0.77     20000\n",
      "\n"
     ]
    }
   ],
   "source": [
    "predY = rf_classifier.predict(testX)\n",
    "print(classification_report(testY, predY))"
   ]
  },
  {
   "cell_type": "code",
   "execution_count": 52,
   "metadata": {},
   "outputs": [
    {
     "data": {
      "image/png": "[encoded data removed]",
      "text/plain": [
       "<Figure size 432x2160 with 1 Axes>"
      ]
     },
     "metadata": {
      "needs_background": "light"
     },
     "output_type": "display_data"
    }
   ],
   "source": [
    "rf_imps = rf_classifier.feature_importances_\n",
    "sort_ind = np.argsort(rf_imps)\n",
    "top_n = sort_ind[::-1][:100]\n",
    "sorted_imps = rf_imps[top_n]\n",
    "top_feats = np.array(features)[top_n]\n",
    "\n",
    "plt.figure(figsize=(6, 30))\n",
    "plt.xlabel('Relative Importance', fontsize=20)\n",
    "plt.ylabel('Feature', fontsize=20)\n",
    "sns.barplot(y = top_feats, x = sorted_imps)\n",
    "plt.tick_params(labelsize=20)\n",
    "plt.show()"
   ]
  },
  {
   "cell_type": "code",
   "execution_count": 47,
   "metadata": {},
   "outputs": [
    {
     "data": {
      "text/plain": [
       "array(['fucking', 'fuck', 'pron fucking', 'fuck pron', 'bitch', 'pron',\n",
       "       'idiot', 'pron fuck', 'ass', 'shit'], dtype='<U36')"
      ]
     },
     "execution_count": 47,
     "metadata": {},
     "output_type": "execute_result"
    }
   ],
   "source": [
    "np.array(features)[top_n]"
   ]
  },
  {
   "cell_type": "code",
   "execution_count": 31,
   "metadata": {},
   "outputs": [
    {
     "data": {
      "text/plain": [
       "OneVsOneClassifier(estimator=LogisticRegression(C=1, class_weight='balanced',\n",
       "                                                dual=False, fit_intercept=True,\n",
       "                                                intercept_scaling=1,\n",
       "                                                l1_ratio=None, max_iter=7000,\n",
       "                                                multi_class='warn', n_jobs=None,\n",
       "                                                penalty='l2', random_state=None,\n",
       "                                                solver='warn', tol=0.0001,\n",
       "                                                verbose=0, warm_start=False),\n",
       "                   n_jobs=-1)"
      ]
     },
     "execution_count": 31,
     "metadata": {},
     "output_type": "execute_result"
    }
   ],
   "source": [
    "lr_classifier = OneVsOneClassifier(LogisticRegression(class_weight='balanced', C=1, max_iter=7000), n_jobs=-1)\n",
    "lr_classifier.fit(trainX, trainY)"
   ]
  },
  {
   "cell_type": "code",
   "execution_count": 32,
   "metadata": {},
   "outputs": [
    {
     "name": "stdout",
     "output_type": "stream",
     "text": [
      "              precision    recall  f1-score   support\n",
      "\n",
      "           0       0.93      0.77      0.84     43003\n",
      "           1       0.53      0.81      0.64     11213\n",
      "           2       0.92      0.85      0.88     21781\n",
      "           3       0.46      0.82      0.59      3999\n",
      "\n",
      "    accuracy                           0.80     79996\n",
      "   macro avg       0.71      0.81      0.74     79996\n",
      "weighted avg       0.85      0.80      0.81     79996\n",
      "\n"
     ]
    }
   ],
   "source": [
    "predY = lr_classifier.predict(trainX)\n",
    "print(classification_report(trainY, predY))"
   ]
  },
  {
   "cell_type": "code",
   "execution_count": 33,
   "metadata": {},
   "outputs": [
    {
     "name": "stdout",
     "output_type": "stream",
     "text": [
      "              precision    recall  f1-score   support\n",
      "\n",
      "           0       0.87      0.73      0.80     10848\n",
      "           1       0.46      0.70      0.55      2817\n",
      "           2       0.90      0.82      0.86      5369\n",
      "           3       0.32      0.56      0.41       966\n",
      "\n",
      "    accuracy                           0.74     20000\n",
      "   macro avg       0.64      0.70      0.65     20000\n",
      "weighted avg       0.79      0.74      0.76     20000\n",
      "\n"
     ]
    }
   ],
   "source": [
    "predY = lr_classifier.predict(testX)\n",
    "print(classification_report(testY, predY))"
   ]
  }
 ],
 "metadata": {
  "kernelspec": {
   "display_name": "Python 3",
   "language": "python",
   "name": "python3"
  },
  "language_info": {
   "codemirror_mode": {
    "name": "ipython",
    "version": 3
   },
   "file_extension": ".py",
   "mimetype": "text/x-python",
   "name": "python",
   "nbconvert_exporter": "python",
   "pygments_lexer": "ipython3",
   "version": "3.7.3"
  }
 },
 "nbformat": 4,
 "nbformat_minor": 1
}
